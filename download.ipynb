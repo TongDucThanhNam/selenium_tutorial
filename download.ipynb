{
 "cells": [
  {
   "metadata": {
    "ExecuteTime": {
     "end_time": "2024-11-25T01:57:29.694637Z",
     "start_time": "2024-11-25T01:57:29.686315Z"
    }
   },
   "cell_type": "code",
   "source": [
    "files = [\n",
    "    # {\n",
    "    #     \"outputFiles/Cosmetics/BodyColorantsComplexionEnhancers/BodyColorantsComplexionEnhancers.csv\":\n",
    "    #         \"Cosmetics/BodyColorantsComplexionEnhancers\"\n",
    "    # },\n",
    "    # {\n",
    "    #     \"outputFiles/Cosmetics/Concealers/Concealers.csv\":\n",
    "    #         \"Cosmetics/Concealers\"\n",
    "    # },\n",
    "    # {\n",
    "    #     \"outputFiles/Cosmetics/EyebrowColorantsStyling/EyebrowColorantsStyling.csv\":\n",
    "    #         \"Cosmetics/EyebrowColorantsStyling\"\n",
    "    # },\n",
    "    # {\n",
    "    #     \"outputFiles/Cosmetics/EyelinersEyePencils/EyelinersEyePencils.csv\":\n",
    "    #         \"Cosmetics/EyelinersEyePencils\"\n",
    "    # },\n",
    "    # {\n",
    "    #     \"outputFiles/Cosmetics/EyeShadows/EyeShadows.csv\":\n",
    "    #         \"Cosmetics/EyeShadows\"\n",
    "    # },\n",
    "    # {\n",
    "    #     \"outputFiles/Cosmetics/FoundationsPrimersMattifiers/FoundationsPrimersMattifiers.csv\":\n",
    "    #         \"Cosmetics/FoundationsPrimersMattifiers\"\n",
    "    # },\n",
    "    # {\n",
    "    #     \"outputFiles/Cosmetics/HighlightersBronzers/HighlightersBronzers.csv\":\n",
    "    #         \"Cosmetics/HighlightersBronzers\"\n",
    "    # },\n",
    "    # {\n",
    "    #     \"outputFiles/Cosmetics/LipColoringGlosses/LipColoringGlosses.csv\":\n",
    "    #         \"Cosmetics/LipColoringGlosses\"\n",
    "    # },\n",
    "    # {\n",
    "    #     \"outputFiles/Cosmetics/LipLiners/LipLiners.csv\":\n",
    "    #         \"Cosmetics/LipLiners\"\n",
    "    # },\n",
    "    # {\n",
    "    #     \"outputFiles/Cosmetics/MakeupBases/MakeupBases.csv\":\n",
    "    #         \"Cosmetics/MakeupBases\"\n",
    "    # },\n",
    "    {\n",
    "        \"outputFiles/Cosmetics/MakeupRemovers/MakeupRemovers.csv\":\n",
    "            \"Cosmetics/MakeupRemovers\"\n",
    "    },\n",
    "    {\n",
    "        \"outputFiles/Cosmetics/MakeupSettingFinishing/MakeupSettingFinishing.csv\":\n",
    "            \"Cosmetics/MakeupSettingFinishing\"\n",
    "    },\n",
    "    {\n",
    "        \"outputFiles/Cosmetics/Mascaras/Mascaras.csv\":\n",
    "            \"Cosmetics/Mascaras\"\n",
    "    },\n",
    "    {\n",
    "        \"outputFiles/Cosmetics/RougesBlushes/RougesBlushes.csv\":\n",
    "            \"Cosmetics/RougesBlushes\"\n",
    "    },\n",
    "    {\n",
    "        \"outputFiles/Fragrance/Perfumes/Perfumes.csv\":\n",
    "            \"Fragrance/Perfumes\"\n",
    "    },\n",
    "    {\n",
    "        \"outputFiles/InsectRepellantBiteCare/InsectRepellantBiteCare.csv\":\n",
    "            \"InsectRepellantBiteCare\"\n",
    "    },\n",
    "    {\n",
    "        \"outputFiles/NailCare/CuticleSoftenersConditioners/CuticleSoftenersConditioners.csv\":\n",
    "            \"NailCare/CuticleSoftenersConditioners\"\n",
    "    },\n",
    "    {\n",
    "        \"outputFiles/NailCare/NailPolishEnamel/NailPolishEnamel.csv\":\n",
    "            \"NailCare/NailPolishEnamel\"\n",
    "    },\n",
    "    {\n",
    "        \"outputFiles/OralHygiene/DentalAdhesive/DentalAdhesive.csv\":\n",
    "            \"OralHygiene/DentalAdhesive\"\n",
    "    },\n",
    "    {\n",
    "        \"outputFiles/OralHygiene/MouthwashesBreathFresheners/MouthwashesBreathFresheners.csv\":\n",
    "            \"OralHygiene/MouthwashesBreathFresheners\"\n",
    "    },\n",
    "    {\n",
    "        \"outputFiles/OralHygiene/ToothpastesDentifrices/ToothpastesDentifrices.csv\":\n",
    "            \"OralHygiene/ToothpastesDentifrices\"\n",
    "    },\n",
    "    {\n",
    "        \"outputFiles/PersonalHygieneCleanliness/BodyCleansersWashes/BodyCleansersWashes.csv\":\n",
    "            \"PersonalHygieneCleanliness/BodyCleansersWashes\"\n",
    "    },\n",
    "    {\n",
    "        \"outputFiles/PersonalHygieneCleanliness/DeodorantsAntiperspirants/DeodorantsAntiperspirants.csv\":\n",
    "            \"PersonalHygieneCleanliness/DeodorantsAntiperspirants\"\n",
    "    },\n",
    "    {\n",
    "        \"outputFiles/PersonalHygieneCleanliness/HandSoapsBubbleBaths/HandSoapsBubbleBaths.csv\":\n",
    "            \"PersonalHygieneCleanliness/HandSoapsBubbleBaths\"\n",
    "    },\n",
    "    {\n",
    "        \"outputFiles/PersonalHygieneCleanliness/Santizers/Sanitizers.csv\":\n",
    "            \"PersonalHygieneCleanliness/Santizers\"\n",
    "    },\n",
    "    {\n",
    "        \"outputFiles/ShavingHairRemoval/Aftershave/Aftershave.csv\":\n",
    "            \"ShavingHairRemoval/Aftershave\"\n",
    "    },\n",
    "    {\n",
    "        \"outputFiles/ShavingHairRemoval/DepilatoriesHairRemoval/DepilatoriesHairRemoval.csv\":\n",
    "            \"ShavingHairRemoval/DepilatoriesHairRemoval\"\n",
    "    },\n",
    "    {\n",
    "        \"outputFiles/ShavingHairRemoval/PreShavePreparation/PreShavePreparation.csv\":\n",
    "            \"ShavingHairRemoval/PreShavePreparation\"\n",
    "    },\n",
    "    {\n",
    "        \"outputFiles/SpecialtyOther/AnalgesicsPainRelievers/AnalgesicsPainRelievers.csv\":\n",
    "            \"SpecialtyOther/AnalgesicsPainRelievers\"\n",
    "    },\n",
    "    {\n",
    "        \"outputFiles/SpecialtyOther/Antacids/Antacids.csv\":\n",
    "            \"SpecialtyOther/Antacids\"\n",
    "    },\n",
    "    {\n",
    "        \"outputFiles/SpecialtyOther/AntisepticsSkinDisinfectants/AntisepticsSkinDisinfectants.csv\":\n",
    "            \"SpecialtyOther/AntisepticsSkinDisinfectants\"\n",
    "    },\n",
    "    {\n",
    "        \"outputFiles/SpecialtyOther/FormulationAdditiveBaseComposition/FormulationAdditiveBaseComposition.csv\":\n",
    "            \"SpecialtyOther/FormulationAdditiveBaseComposition\"\n",
    "    },\n",
    "    {\n",
    "        \"outputFiles/SunCare/AfterSun/AfterSun.csv\":\n",
    "            \"SunCare/AfterSun\"\n",
    "    },\n",
    "    {\n",
    "        \"outputFiles/SunCare/IndoorSelfTanners/IndoorSelfTanners.csv\":\n",
    "            \"SunCare/IndoorSelfTanners\"\n",
    "    },\n",
    "    {\n",
    "        \"outputFiles/SunCare/UvProtectantsSunscreens/UVProtectantsSunscreens.csv\":\n",
    "            \"SunCare/UVProtectantsSunscreens\"\n",
    "    }\n",
    "]"
   ],
   "id": "eeadd6df3bb0a7ba",
   "outputs": [],
   "execution_count": 1
  },
  {
   "metadata": {
    "ExecuteTime": {
     "end_time": "2024-11-25T01:57:29.706009Z",
     "start_time": "2024-11-25T01:57:29.703875Z"
    }
   },
   "cell_type": "code",
   "source": "",
   "id": "cf11464c06eeb289",
   "outputs": [],
   "execution_count": null
  },
  {
   "metadata": {
    "ExecuteTime": {
     "end_time": "2024-11-25T01:57:30.153177Z",
     "start_time": "2024-11-25T01:57:29.806890Z"
    }
   },
   "cell_type": "code",
   "source": [
    "import pandas as pd\n",
    "import ast\n",
    "import time\n",
    "from selenium import webdriver\n",
    "from selenium.webdriver.chrome.service import Service\n",
    "from selenium.webdriver.chrome.options import Options\n",
    "from webdriver_manager.chrome import ChromeDriverManager\n",
    "from selenium.webdriver.common.by import By\n",
    "from tqdm.notebook import tqdm  # Use notebook version for Jupyter"
   ],
   "id": "6a7d57388bbf1475",
   "outputs": [],
   "execution_count": 2
  },
  {
   "metadata": {
    "ExecuteTime": {
     "end_time": "2024-11-25T01:57:30.163521Z",
     "start_time": "2024-11-25T01:57:30.159247Z"
    }
   },
   "cell_type": "code",
   "source": [
    "# get absolute path\n",
    "import os\n",
    "\n",
    "os.getcwd()"
   ],
   "id": "e3fa3dff78a948f9",
   "outputs": [
    {
     "data": {
      "text/plain": [
       "'/home/terasumi/Documents/source_code/AI/selenium'"
      ]
     },
     "execution_count": 3,
     "metadata": {},
     "output_type": "execute_result"
    }
   ],
   "execution_count": 3
  },
  {
   "metadata": {
    "ExecuteTime": {
     "end_time": "2024-11-25T01:57:30.211296Z",
     "start_time": "2024-11-25T01:57:30.208676Z"
    }
   },
   "cell_type": "code",
   "source": [
    "# add new line to status.csv\n",
    "def add_new_line_to_status_csv(file_name, message):\n",
    "    with open(file_name, 'a') as f:\n",
    "        f.write(message + '\\n')\n",
    "        f.close()"
   ],
   "id": "6cab5aab5b4ac9f4",
   "outputs": [],
   "execution_count": 4
  },
  {
   "metadata": {
    "ExecuteTime": {
     "end_time": "2024-11-25T06:50:57.124524Z",
     "start_time": "2024-11-25T01:57:30.255602Z"
    }
   },
   "cell_type": "code",
   "source": [
    "for file in files:\n",
    "    csv_output = list(file.keys())[0]\n",
    "    files_output = list(file.values())[0]\n",
    "    # get absolute path\n",
    "    download_directory = f\"{os.getcwd()}/outputFiles/{files_output}\"\n",
    "    df = pd.read_csv(csv_output)\n",
    "    list_pdf = []\n",
    "    for index, row in df.iterrows():\n",
    "        list_temp = ast.literal_eval(row['URLs'])\n",
    "        list_pdf.extend(list_temp)\n",
    "    chrome_options = Options()\n",
    "    chrome_options.add_experimental_option(\"prefs\", {\n",
    "        \"download.default_directory\": download_directory,\n",
    "        \"plugins.always_open_pdf_externally\": True,\n",
    "        \"download.prompt_for_download\": False,\n",
    "        \"download.directory_upgrade\": True\n",
    "    })\n",
    "    driver = webdriver.Chrome(service=Service(ChromeDriverManager().install()), options=chrome_options)\n",
    "    driver.get(\"https://www.ulprospector.com/en/login\")\n",
    "    # Tự đăng nhập \n",
    "    email = driver.find_element(By.ID, \"email\")\n",
    "    # set email\n",
    "    email.send_keys(\"phuc.an@innocef.com.vn\")\n",
    "    time.sleep(2)\n",
    "\n",
    "    next_button = driver.find_element(By.ID, \"main-login\")\n",
    "    next_button.click()\n",
    "\n",
    "    time.sleep(20)\n",
    "    # password\n",
    "    password = driver.find_element(By.ID, \"password\")\n",
    "    password.send_keys(\"Innocef2024@\")\n",
    "    time.sleep(2)\n",
    "    # next\n",
    "    # time.sleep(10)\n",
    "\n",
    "    # login (button: continue)\n",
    "    login = driver.find_element(By.ID, \"continue\")\n",
    "    login.click()\n",
    "    time.sleep(10)\n",
    "    for url in tqdm(list_pdf, desc=\"Downloading PDFs\"):\n",
    "        driver.get(url)\n",
    "        time.sleep(6)\n",
    "\n",
    "    add_new_line_to_status_csv(\"status.csv\", f\"{files_output} - Done\")\n",
    "    # Close the Chrome driver\n",
    "    driver.quit()\n",
    "    time.sleep(50)\n",
    " "
   ],
   "id": "b58b8bc131912646",
   "outputs": [
    {
     "data": {
      "text/plain": [
       "Downloading PDFs:   0%|          | 0/104 [00:00<?, ?it/s]"
      ],
      "application/vnd.jupyter.widget-view+json": {
       "version_major": 2,
       "version_minor": 0,
       "model_id": "8de6ddb4771c41b2abbab9cac114ff72"
      }
     },
     "metadata": {},
     "output_type": "display_data"
    },
    {
     "data": {
      "text/plain": [
       "Downloading PDFs:   0%|          | 0/20 [00:00<?, ?it/s]"
      ],
      "application/vnd.jupyter.widget-view+json": {
       "version_major": 2,
       "version_minor": 0,
       "model_id": "5bc9c26ff0e04861816dc764001a9ec6"
      }
     },
     "metadata": {},
     "output_type": "display_data"
    },
    {
     "data": {
      "text/plain": [
       "Downloading PDFs:   0%|          | 0/96 [00:00<?, ?it/s]"
      ],
      "application/vnd.jupyter.widget-view+json": {
       "version_major": 2,
       "version_minor": 0,
       "model_id": "2b80b4c678314f74ab78855e7ac9da95"
      }
     },
     "metadata": {},
     "output_type": "display_data"
    },
    {
     "data": {
      "text/plain": [
       "Downloading PDFs:   0%|          | 0/138 [00:00<?, ?it/s]"
      ],
      "application/vnd.jupyter.widget-view+json": {
       "version_major": 2,
       "version_minor": 0,
       "model_id": "f3c3448d13224edc8ef31ad39e4ad3c3"
      }
     },
     "metadata": {},
     "output_type": "display_data"
    },
    {
     "data": {
      "text/plain": [
       "Downloading PDFs:   0%|          | 0/15 [00:00<?, ?it/s]"
      ],
      "application/vnd.jupyter.widget-view+json": {
       "version_major": 2,
       "version_minor": 0,
       "model_id": "168a5b3164c64ed58e57ee3b96b0af9b"
      }
     },
     "metadata": {},
     "output_type": "display_data"
    },
    {
     "data": {
      "text/plain": [
       "Downloading PDFs:   0%|          | 0/2 [00:00<?, ?it/s]"
      ],
      "application/vnd.jupyter.widget-view+json": {
       "version_major": 2,
       "version_minor": 0,
       "model_id": "24a73e7df23047f08b5d3b39d652e418"
      }
     },
     "metadata": {},
     "output_type": "display_data"
    },
    {
     "data": {
      "text/plain": [
       "Downloading PDFs:   0%|          | 0/8 [00:00<?, ?it/s]"
      ],
      "application/vnd.jupyter.widget-view+json": {
       "version_major": 2,
       "version_minor": 0,
       "model_id": "9e3cf2df0e0a44f98365e9565cb408d2"
      }
     },
     "metadata": {},
     "output_type": "display_data"
    },
    {
     "data": {
      "text/plain": [
       "Downloading PDFs:   0%|          | 0/88 [00:00<?, ?it/s]"
      ],
      "application/vnd.jupyter.widget-view+json": {
       "version_major": 2,
       "version_minor": 0,
       "model_id": "c32aee95590849168f3517eaf6777ce6"
      }
     },
     "metadata": {},
     "output_type": "display_data"
    },
    {
     "data": {
      "text/plain": [
       "Downloading PDFs:   0%|          | 0/5 [00:00<?, ?it/s]"
      ],
      "application/vnd.jupyter.widget-view+json": {
       "version_major": 2,
       "version_minor": 0,
       "model_id": "e8228874d9044ec5b2f9104f8f58ff36"
      }
     },
     "metadata": {},
     "output_type": "display_data"
    },
    {
     "data": {
      "text/plain": [
       "Downloading PDFs:   0%|          | 0/14 [00:00<?, ?it/s]"
      ],
      "application/vnd.jupyter.widget-view+json": {
       "version_major": 2,
       "version_minor": 0,
       "model_id": "3ef2506563b34ae1aec4e5da8a506898"
      }
     },
     "metadata": {},
     "output_type": "display_data"
    },
    {
     "data": {
      "text/plain": [
       "Downloading PDFs:   0%|          | 0/53 [00:00<?, ?it/s]"
      ],
      "application/vnd.jupyter.widget-view+json": {
       "version_major": 2,
       "version_minor": 0,
       "model_id": "28c80f4d4de9411d94db5b38d18c5161"
      }
     },
     "metadata": {},
     "output_type": "display_data"
    },
    {
     "data": {
      "text/plain": [
       "Downloading PDFs:   0%|          | 0/402 [00:00<?, ?it/s]"
      ],
      "application/vnd.jupyter.widget-view+json": {
       "version_major": 2,
       "version_minor": 0,
       "model_id": "1429fae02db74cb595ffeb3b9ec95937"
      }
     },
     "metadata": {},
     "output_type": "display_data"
    },
    {
     "data": {
      "text/plain": [
       "Downloading PDFs:   0%|          | 0/132 [00:00<?, ?it/s]"
      ],
      "application/vnd.jupyter.widget-view+json": {
       "version_major": 2,
       "version_minor": 0,
       "model_id": "a6f7549608404b0cb664f7ddb6fda0a7"
      }
     },
     "metadata": {},
     "output_type": "display_data"
    },
    {
     "data": {
      "text/plain": [
       "Downloading PDFs:   0%|          | 0/248 [00:00<?, ?it/s]"
      ],
      "application/vnd.jupyter.widget-view+json": {
       "version_major": 2,
       "version_minor": 0,
       "model_id": "915636aea75c41eb99471a782df26b68"
      }
     },
     "metadata": {},
     "output_type": "display_data"
    },
    {
     "data": {
      "text/plain": [
       "Downloading PDFs:   0%|          | 0/59 [00:00<?, ?it/s]"
      ],
      "application/vnd.jupyter.widget-view+json": {
       "version_major": 2,
       "version_minor": 0,
       "model_id": "2de66ca07d744d12a7c66113c4bd7afd"
      }
     },
     "metadata": {},
     "output_type": "display_data"
    },
    {
     "data": {
      "text/plain": [
       "Downloading PDFs:   0%|          | 0/54 [00:00<?, ?it/s]"
      ],
      "application/vnd.jupyter.widget-view+json": {
       "version_major": 2,
       "version_minor": 0,
       "model_id": "f09632af85484e9290558eac648d8f5a"
      }
     },
     "metadata": {},
     "output_type": "display_data"
    },
    {
     "data": {
      "text/plain": [
       "Downloading PDFs:   0%|          | 0/32 [00:00<?, ?it/s]"
      ],
      "application/vnd.jupyter.widget-view+json": {
       "version_major": 2,
       "version_minor": 0,
       "model_id": "3cae56207ff141bca94a426a56bb0f89"
      }
     },
     "metadata": {},
     "output_type": "display_data"
    },
    {
     "data": {
      "text/plain": [
       "Downloading PDFs:   0%|          | 0/6 [00:00<?, ?it/s]"
      ],
      "application/vnd.jupyter.widget-view+json": {
       "version_major": 2,
       "version_minor": 0,
       "model_id": "bba313909f8b427ab1fa3c049ea2b32e"
      }
     },
     "metadata": {},
     "output_type": "display_data"
    },
    {
     "data": {
      "text/plain": [
       "Downloading PDFs:   0%|          | 0/21 [00:00<?, ?it/s]"
      ],
      "application/vnd.jupyter.widget-view+json": {
       "version_major": 2,
       "version_minor": 0,
       "model_id": "d425be132741401abe06b25d45d409ac"
      }
     },
     "metadata": {},
     "output_type": "display_data"
    },
    {
     "data": {
      "text/plain": [
       "Downloading PDFs:   0%|          | 0/3 [00:00<?, ?it/s]"
      ],
      "application/vnd.jupyter.widget-view+json": {
       "version_major": 2,
       "version_minor": 0,
       "model_id": "037f26b2eed846a18f316ebf6a509f89"
      }
     },
     "metadata": {},
     "output_type": "display_data"
    },
    {
     "data": {
      "text/plain": [
       "Downloading PDFs:   0%|          | 0/7 [00:00<?, ?it/s]"
      ],
      "application/vnd.jupyter.widget-view+json": {
       "version_major": 2,
       "version_minor": 0,
       "model_id": "2b642e68be9e4eab91114f67ee96a7dd"
      }
     },
     "metadata": {},
     "output_type": "display_data"
    },
    {
     "data": {
      "text/plain": [
       "Downloading PDFs:   0%|          | 0/12 [00:00<?, ?it/s]"
      ],
      "application/vnd.jupyter.widget-view+json": {
       "version_major": 2,
       "version_minor": 0,
       "model_id": "2851ee072f894223bb63e6f5e4c3e76e"
      }
     },
     "metadata": {},
     "output_type": "display_data"
    },
    {
     "data": {
      "text/plain": [
       "Downloading PDFs:   0%|          | 0/54 [00:00<?, ?it/s]"
      ],
      "application/vnd.jupyter.widget-view+json": {
       "version_major": 2,
       "version_minor": 0,
       "model_id": "0454e6b4ee9e45d7907a3e7e14e345a5"
      }
     },
     "metadata": {},
     "output_type": "display_data"
    },
    {
     "data": {
      "text/plain": [
       "Downloading PDFs:   0%|          | 0/40 [00:00<?, ?it/s]"
      ],
      "application/vnd.jupyter.widget-view+json": {
       "version_major": 2,
       "version_minor": 0,
       "model_id": "bec41ef62e6f42f6a6f64232b4c1a4d3"
      }
     },
     "metadata": {},
     "output_type": "display_data"
    },
    {
     "data": {
      "text/plain": [
       "Downloading PDFs:   0%|          | 0/728 [00:00<?, ?it/s]"
      ],
      "application/vnd.jupyter.widget-view+json": {
       "version_major": 2,
       "version_minor": 0,
       "model_id": "0a2999fdb1c249448d7ac9a7d9ad7436"
      }
     },
     "metadata": {},
     "output_type": "display_data"
    }
   ],
   "execution_count": 5
  }
 ],
 "metadata": {
  "kernelspec": {
   "display_name": "Python 3",
   "language": "python",
   "name": "python3"
  },
  "language_info": {
   "codemirror_mode": {
    "name": "ipython",
    "version": 2
   },
   "file_extension": ".py",
   "mimetype": "text/x-python",
   "name": "python",
   "nbconvert_exporter": "python",
   "pygments_lexer": "ipython2",
   "version": "2.7.6"
  }
 },
 "nbformat": 4,
 "nbformat_minor": 5
}
