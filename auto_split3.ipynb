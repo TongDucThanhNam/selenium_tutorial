{
 "cells": [
  {
   "metadata": {
    "ExecuteTime": {
     "end_time": "2024-11-24T12:09:03.352587Z",
     "start_time": "2024-11-24T12:09:00.474288Z"
    }
   },
   "cell_type": "code",
   "source": [
    "!pip install webdriver-manager\n",
    "!pip instal pandas\n",
    "!pip install selenium\n",
    "!pip install openpyxl"
   ],
   "id": "b1d4b5274811ef1e",
   "outputs": [
    {
     "name": "stdout",
     "output_type": "stream",
     "text": [
      "Requirement already satisfied: webdriver-manager in /home/terasumi/miniconda3/lib/python3.12/site-packages (4.0.2)\r\n",
      "Requirement already satisfied: requests in /home/terasumi/miniconda3/lib/python3.12/site-packages (from webdriver-manager) (2.32.3)\r\n",
      "Requirement already satisfied: python-dotenv in /home/terasumi/miniconda3/lib/python3.12/site-packages (from webdriver-manager) (1.0.1)\r\n",
      "Requirement already satisfied: packaging in /home/terasumi/miniconda3/lib/python3.12/site-packages (from webdriver-manager) (24.1)\r\n",
      "Requirement already satisfied: charset-normalizer<4,>=2 in /home/terasumi/miniconda3/lib/python3.12/site-packages (from requests->webdriver-manager) (3.3.2)\r\n",
      "Requirement already satisfied: idna<4,>=2.5 in /home/terasumi/miniconda3/lib/python3.12/site-packages (from requests->webdriver-manager) (3.7)\r\n",
      "Requirement already satisfied: urllib3<3,>=1.21.1 in /home/terasumi/miniconda3/lib/python3.12/site-packages (from requests->webdriver-manager) (2.2.3)\r\n",
      "Requirement already satisfied: certifi>=2017.4.17 in /home/terasumi/miniconda3/lib/python3.12/site-packages (from requests->webdriver-manager) (2024.8.30)\r\n",
      "ERROR: unknown command \"instal\" - maybe you meant \"install\"\r\n",
      "Requirement already satisfied: selenium in /home/terasumi/miniconda3/lib/python3.12/site-packages (4.26.1)\r\n",
      "Requirement already satisfied: urllib3<3,>=1.26 in /home/terasumi/miniconda3/lib/python3.12/site-packages (from urllib3[socks]<3,>=1.26->selenium) (2.2.3)\r\n",
      "Requirement already satisfied: trio~=0.17 in /home/terasumi/miniconda3/lib/python3.12/site-packages (from selenium) (0.27.0)\r\n",
      "Requirement already satisfied: trio-websocket~=0.9 in /home/terasumi/miniconda3/lib/python3.12/site-packages (from selenium) (0.11.1)\r\n",
      "Requirement already satisfied: certifi>=2021.10.8 in /home/terasumi/miniconda3/lib/python3.12/site-packages (from selenium) (2024.8.30)\r\n",
      "Requirement already satisfied: typing_extensions~=4.9 in /home/terasumi/miniconda3/lib/python3.12/site-packages (from selenium) (4.12.2)\r\n",
      "Requirement already satisfied: websocket-client~=1.8 in /home/terasumi/miniconda3/lib/python3.12/site-packages (from selenium) (1.8.0)\r\n",
      "Requirement already satisfied: attrs>=23.2.0 in /home/terasumi/miniconda3/lib/python3.12/site-packages (from trio~=0.17->selenium) (24.2.0)\r\n",
      "Requirement already satisfied: sortedcontainers in /home/terasumi/miniconda3/lib/python3.12/site-packages (from trio~=0.17->selenium) (2.4.0)\r\n",
      "Requirement already satisfied: idna in /home/terasumi/miniconda3/lib/python3.12/site-packages (from trio~=0.17->selenium) (3.7)\r\n",
      "Requirement already satisfied: outcome in /home/terasumi/miniconda3/lib/python3.12/site-packages (from trio~=0.17->selenium) (1.3.0.post0)\r\n",
      "Requirement already satisfied: sniffio>=1.3.0 in /home/terasumi/miniconda3/lib/python3.12/site-packages (from trio~=0.17->selenium) (1.3.1)\r\n",
      "Requirement already satisfied: wsproto>=0.14 in /home/terasumi/miniconda3/lib/python3.12/site-packages (from trio-websocket~=0.9->selenium) (1.2.0)\r\n",
      "Requirement already satisfied: pysocks!=1.5.7,<2.0,>=1.5.6 in /home/terasumi/miniconda3/lib/python3.12/site-packages (from urllib3[socks]<3,>=1.26->selenium) (1.7.1)\r\n",
      "Requirement already satisfied: h11<1,>=0.9.0 in /home/terasumi/miniconda3/lib/python3.12/site-packages (from wsproto>=0.14->trio-websocket~=0.9->selenium) (0.14.0)\r\n",
      "Requirement already satisfied: openpyxl in /home/terasumi/miniconda3/lib/python3.12/site-packages (3.1.5)\r\n",
      "Requirement already satisfied: et-xmlfile in /home/terasumi/miniconda3/lib/python3.12/site-packages (from openpyxl) (2.0.0)\r\n"
     ]
    }
   ],
   "execution_count": 57
  },
  {
   "metadata": {
    "ExecuteTime": {
     "end_time": "2024-11-24T12:09:03.357554Z",
     "start_time": "2024-11-24T12:09:03.355663Z"
    }
   },
   "cell_type": "code",
   "source": "",
   "id": "deef8819df4e06e6",
   "outputs": [],
   "execution_count": null
  },
  {
   "metadata": {},
   "cell_type": "markdown",
   "source": [
    "# Hướng dẫn sử dụng \n",
    "- Nhập file XLSX: từ folder xlsxLink/[name].xlsx\n",
    "- Chọn folder output: outputFolder/[name].csv"
   ],
   "id": "6178456a7e5e1f32"
  },
  {
   "metadata": {
    "ExecuteTime": {
     "end_time": "2024-11-24T12:09:03.402231Z",
     "start_time": "2024-11-24T12:09:03.399737Z"
    }
   },
   "cell_type": "code",
   "source": [
    "# Config:\n",
    "xlsx_file = 'outputFiles/SpecialtyOther/FormulationAdditiveBaseComposition/FormulationAdditiveBaseComposition.xls.xlsx'\n",
    "# Slpit\n",
    "version = \"\"\n",
    "start = 0\n",
    "end = start + 1000\n",
    "\n",
    "csv_output = f'outputFiles/SpecialtyOther/FormulationAdditiveBaseComposition/FormulationAdditiveBaseComposition{version}.csv'"
   ],
   "id": "58de50fc22e32cf3",
   "outputs": [],
   "execution_count": 58
  },
  {
   "metadata": {
    "ExecuteTime": {
     "end_time": "2024-11-24T12:09:03.446450Z",
     "start_time": "2024-11-24T12:09:03.444720Z"
    }
   },
   "cell_type": "code",
   "source": "",
   "id": "df73dd311843b2bb",
   "outputs": [],
   "execution_count": null
  },
  {
   "metadata": {
    "ExecuteTime": {
     "end_time": "2024-11-24T12:09:03.512209Z",
     "start_time": "2024-11-24T12:09:03.488879Z"
    }
   },
   "cell_type": "code",
   "source": [
    "import time\n",
    "\n",
    "import pandas as pd\n",
    "\n",
    "# transform xls to dataframe\n",
    "df = pd.read_excel(xlsx_file)"
   ],
   "id": "51f96b1c3d1c54ce",
   "outputs": [],
   "execution_count": 59
  },
  {
   "metadata": {
    "ExecuteTime": {
     "end_time": "2024-11-24T12:09:04.485965Z",
     "start_time": "2024-11-24T12:09:03.533553Z"
    }
   },
   "cell_type": "code",
   "source": [
    "# Install selenium if you haven't already\n",
    "# !pip install selenium\n",
    "\n",
    "from selenium import webdriver\n",
    "from selenium.webdriver.common.by import By\n",
    "from selenium.webdriver.chrome.service import Service\n",
    "from webdriver_manager.chrome import ChromeDriverManager\n",
    "\n",
    "# Initialize the Chrome driver\n",
    "driver = webdriver.Chrome(service=Service(ChromeDriverManager().install()))"
   ],
   "id": "3fb481f97f991783",
   "outputs": [],
   "execution_count": 60
  },
  {
   "metadata": {
    "ExecuteTime": {
     "end_time": "2024-11-24T12:10:30.928970Z",
     "start_time": "2024-11-24T12:09:04.498831Z"
    }
   },
   "cell_type": "code",
   "source": [
    "import pandas as pd\n",
    "from collections import defaultdict\n",
    "\n",
    "# Initialize an empty dictionary to store the grouped data\n",
    "grouped_data = defaultdict(list)\n",
    "\n",
    "#TODO: CHeck some link URLS not correct position\n",
    "\n",
    "# Go to the specific URL\n",
    "from tqdm import tqdm\n",
    "\n",
    "df_split = df[start:end]\n",
    "\n",
    "for url in tqdm(df_split['URL'], desc=\"Processing URLs\"):  # only the first 10 links\n",
    "    time.sleep(6)  # sleep 5s\n",
    "    driver.get(url)\n",
    "\n",
    "    # Cloudflare protection\n",
    "    # If the page is protected by Cloudflare, timesleep 10s to user tick on browser\n",
    "\n",
    "    # Find the ul tag with class name 'fa-ul'\n",
    "    try:\n",
    "        ul_element = driver.find_element(By.CLASS_NAME, 'fa-ul')\n",
    "    except:\n",
    "        continue\n",
    "    # For each li tag in the ul tag\n",
    "    for li in ul_element.find_elements(By.TAG_NAME, 'li'):\n",
    "        # Find all a tags in the li tag\n",
    "        a_tags = li.find_elements(By.TAG_NAME, 'a')\n",
    "\n",
    "        for a in a_tags:\n",
    "            # Get name\n",
    "            name = a.text.strip()  # Optional: strip to remove leading/trailing whitespaces\n",
    "            # Get href attribute\n",
    "            href = a.get_attribute('href')\n",
    "\n",
    "            # Group URLs by name\n",
    "            grouped_data[name].append(href)\n",
    "\n",
    "# Convert the grouped data into a DataFrame\n",
    "result_data = pd.DataFrame({\n",
    "    \"Name\": grouped_data.keys(),\n",
    "    \"URLs\": grouped_data.values()\n",
    "})"
   ],
   "id": "2727b7f9ad04d858",
   "outputs": [
    {
     "name": "stderr",
     "output_type": "stream",
     "text": [
      "Processing URLs: 100%|██████████| 12/12 [01:26<00:00,  7.20s/it]\n"
     ]
    }
   ],
   "execution_count": 61
  },
  {
   "metadata": {},
   "cell_type": "markdown",
   "source": "",
   "id": "1eb4b3942b229152"
  },
  {
   "metadata": {
    "ExecuteTime": {
     "end_time": "2024-11-24T12:10:31.028763Z",
     "start_time": "2024-11-24T12:10:30.941588Z"
    }
   },
   "cell_type": "code",
   "source": [
    "# Close the browser\n",
    "driver.quit()"
   ],
   "id": "f565f83acc38a66f",
   "outputs": [],
   "execution_count": 62
  },
  {
   "metadata": {
    "ExecuteTime": {
     "end_time": "2024-11-24T12:10:31.040475Z",
     "start_time": "2024-11-24T12:10:31.038048Z"
    }
   },
   "cell_type": "code",
   "source": [
    "# export result to csv\n",
    "result_data.to_csv(csv_output)"
   ],
   "id": "fc1863b1c21f0a81",
   "outputs": [],
   "execution_count": 63
  }
 ],
 "metadata": {
  "kernelspec": {
   "display_name": "Python 3",
   "language": "python",
   "name": "python3"
  },
  "language_info": {
   "codemirror_mode": {
    "name": "ipython",
    "version": 2
   },
   "file_extension": ".py",
   "mimetype": "text/x-python",
   "name": "python",
   "nbconvert_exporter": "python",
   "pygments_lexer": "ipython2",
   "version": "2.7.6"
  }
 },
 "nbformat": 4,
 "nbformat_minor": 5
}
