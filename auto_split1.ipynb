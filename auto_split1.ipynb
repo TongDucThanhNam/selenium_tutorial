{
 "cells": [
  {
   "metadata": {},
   "cell_type": "markdown",
   "source": [
    "# Hướng dẫn sử dụng \n",
    "- Nhập file XLSX: từ folder xlsxLink/[name].xlsx\n",
    "- Chọn folder output: outputFolder/[name].csv"
   ],
   "id": "6178456a7e5e1f32"
  },
  {
   "metadata": {
    "ExecuteTime": {
     "end_time": "2024-11-22T05:00:18.170225Z",
     "start_time": "2024-11-22T05:00:18.165850Z"
    }
   },
   "cell_type": "code",
   "source": [
    "# Config:\n",
    "xlsx_file = 'xlsxLink/MoisturizersBarrierTherapeutics.xls.xlsx'\n",
    "# Slpit\n",
    "version = 1\n",
    "start = 0\n",
    "end = start + 600\n",
    "\n",
    "csv_output = f'outputFolder/MoisturizersBarrierTherapeutics{version}.csv'"
   ],
   "id": "58de50fc22e32cf3",
   "outputs": [],
   "execution_count": 9
  },
  {
   "metadata": {
    "ExecuteTime": {
     "end_time": "2024-11-22T05:00:18.181507Z",
     "start_time": "2024-11-22T05:00:18.178399Z"
    }
   },
   "cell_type": "code",
   "source": "",
   "id": "df73dd311843b2bb",
   "outputs": [],
   "execution_count": null
  },
  {
   "metadata": {
    "ExecuteTime": {
     "end_time": "2024-11-22T05:00:18.490433Z",
     "start_time": "2024-11-22T05:00:18.195888Z"
    }
   },
   "cell_type": "code",
   "source": [
    "import time\n",
    "\n",
    "import pandas as pd\n",
    "\n",
    "# transform xls to dataframe\n",
    "df = pd.read_excel(xlsx_file)"
   ],
   "id": "51f96b1c3d1c54ce",
   "outputs": [],
   "execution_count": 10
  },
  {
   "metadata": {
    "ExecuteTime": {
     "end_time": "2024-11-22T05:00:22.276498Z",
     "start_time": "2024-11-22T05:00:18.524444Z"
    }
   },
   "cell_type": "code",
   "source": [
    "# Install selenium if you haven't already\n",
    "# !pip install selenium\n",
    "\n",
    "from selenium import webdriver\n",
    "from selenium.webdriver.common.by import By\n",
    "from selenium.webdriver.chrome.service import Service\n",
    "from webdriver_manager.chrome import ChromeDriverManager\n",
    "\n",
    "# Initialize the Chrome driver\n",
    "driver = webdriver.Chrome(service=Service(ChromeDriverManager().install()))"
   ],
   "id": "3fb481f97f991783",
   "outputs": [],
   "execution_count": 11
  },
  {
   "metadata": {
    "ExecuteTime": {
     "end_time": "2024-11-22T06:12:46.531565Z",
     "start_time": "2024-11-22T05:00:22.287684Z"
    }
   },
   "cell_type": "code",
   "source": [
    "import pandas as pd\n",
    "from collections import defaultdict\n",
    "\n",
    "# Initialize an empty dictionary to store the grouped data\n",
    "grouped_data = defaultdict(list)\n",
    "\n",
    "#TODO: CHeck some link URLS not correct position\n",
    "\n",
    "# Go to the specific URL\n",
    "from tqdm import tqdm\n",
    "\n",
    "df_split = df[start:end]\n",
    "\n",
    "for url in tqdm(df_split['URL'], desc=\"Processing URLs\"):  # only the first 10 links\n",
    "    time.sleep(6)  # sleep 5s\n",
    "    driver.get(url)\n",
    "\n",
    "    # Cloudflare protection\n",
    "    # If the page is protected by Cloudflare, timesleep 10s to user tick on browser\n",
    "\n",
    "    # Find the ul tag with class name 'fa-ul'\n",
    "    try:\n",
    "        ul_element = driver.find_element(By.CLASS_NAME, 'fa-ul')\n",
    "    except:\n",
    "        continue\n",
    "    # For each li tag in the ul tag\n",
    "    for li in ul_element.find_elements(By.TAG_NAME, 'li'):\n",
    "        # Find all a tags in the li tag\n",
    "        a_tags = li.find_elements(By.TAG_NAME, 'a')\n",
    "\n",
    "        for a in a_tags:\n",
    "            # Get name\n",
    "            name = a.text.strip()  # Optional: strip to remove leading/trailing whitespaces\n",
    "            # Get href attribute\n",
    "            href = a.get_attribute('href')\n",
    "\n",
    "            # Group URLs by name\n",
    "            grouped_data[name].append(href)\n",
    "\n",
    "# Convert the grouped data into a DataFrame\n",
    "result_data = pd.DataFrame({\n",
    "    \"Name\": grouped_data.keys(),\n",
    "    \"URLs\": grouped_data.values()\n",
    "})"
   ],
   "id": "2727b7f9ad04d858",
   "outputs": [
    {
     "name": "stderr",
     "output_type": "stream",
     "text": [
      "Processing URLs: 100%|██████████| 600/600 [1:12:24<00:00,  7.24s/it]\n"
     ]
    }
   ],
   "execution_count": 12
  },
  {
   "metadata": {},
   "cell_type": "markdown",
   "source": "",
   "id": "1eb4b3942b229152"
  },
  {
   "metadata": {
    "ExecuteTime": {
     "end_time": "2024-11-22T06:12:48.752873Z",
     "start_time": "2024-11-22T06:12:46.548526Z"
    }
   },
   "cell_type": "code",
   "source": [
    "# Close the browser\n",
    "driver.quit()"
   ],
   "id": "f565f83acc38a66f",
   "outputs": [],
   "execution_count": 13
  },
  {
   "metadata": {
    "ExecuteTime": {
     "end_time": "2024-11-22T06:12:48.774285Z",
     "start_time": "2024-11-22T06:12:48.765877Z"
    }
   },
   "cell_type": "code",
   "source": [
    "# export result to csv\n",
    "result_data.to_csv(csv_output)"
   ],
   "id": "fc1863b1c21f0a81",
   "outputs": [],
   "execution_count": 14
  }
 ],
 "metadata": {
  "kernelspec": {
   "display_name": "Python 3",
   "language": "python",
   "name": "python3"
  },
  "language_info": {
   "codemirror_mode": {
    "name": "ipython",
    "version": 2
   },
   "file_extension": ".py",
   "mimetype": "text/x-python",
   "name": "python",
   "nbconvert_exporter": "python",
   "pygments_lexer": "ipython2",
   "version": "2.7.6"
  }
 },
 "nbformat": 4,
 "nbformat_minor": 5
}
