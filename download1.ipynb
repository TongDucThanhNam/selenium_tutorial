{
 "cells": [
  {
   "metadata": {
    "ExecuteTime": {
     "end_time": "2024-11-22T16:56:27.528695Z",
     "start_time": "2024-11-22T16:56:27.525120Z"
    }
   },
   "cell_type": "code",
   "source": [
    "# config\n",
    "# Configuration\n",
    "files_output = \"SkinLubricants\"\n",
    "csv_output = f'outputFolder/{files_output}.csv'\n",
    "download_directory = f\"C:\\\\Users\\\\namth\\\\Documents\\\\DataSpell\\\\outputFiles\\\\SkinBodyCare\\\\{files_output}\""
   ],
   "id": "2a17c742aa48fce5",
   "outputs": [],
   "execution_count": 1
  },
  {
   "metadata": {
    "collapsed": true,
    "ExecuteTime": {
     "end_time": "2024-11-22T16:56:27.924955Z",
     "start_time": "2024-11-22T16:56:27.545146Z"
    }
   },
   "cell_type": "code",
   "source": [
    "# read result from file csv\n",
    "import pandas as pd\n",
    "\n",
    "df = pd.read_csv(csv_output)"
   ],
   "id": "initial_id",
   "outputs": [],
   "execution_count": 2
  },
  {
   "metadata": {
    "ExecuteTime": {
     "end_time": "2024-11-22T16:56:28.064908Z",
     "start_time": "2024-11-22T16:56:28.055031Z"
    }
   },
   "cell_type": "code",
   "source": "df.head(5)",
   "id": "1f271166ed34e62c",
   "outputs": [
    {
     "data": {
      "text/plain": [
       "   Unnamed: 0                                               Name  \\\n",
       "0           0      AAA Blooming Bath Oil (Formulation #BDY.0006)   \n",
       "1           1       Baby Massage Oil (Formulation #CS17-107-03C)   \n",
       "2           2  Biotic Body Butter (Formulation #US-CIADC-014-...   \n",
       "3           3                           Ever Lasting Massage Oil   \n",
       "4           4                   Hotstuff Warm - Up Massage Stick   \n",
       "\n",
       "                                                URLs  \n",
       "0  ['https://www.ulprospector.com/documents/16543...  \n",
       "1  ['https://www.ulprospector.com/documents/16088...  \n",
       "2  ['https://www.ulprospector.com/documents/16291...  \n",
       "3  ['https://www.ulprospector.com/documents/11652...  \n",
       "4  ['https://www.ulprospector.com/documents/16431...  "
      ],
      "text/html": [
       "<div>\n",
       "<style scoped>\n",
       "    .dataframe tbody tr th:only-of-type {\n",
       "        vertical-align: middle;\n",
       "    }\n",
       "\n",
       "    .dataframe tbody tr th {\n",
       "        vertical-align: top;\n",
       "    }\n",
       "\n",
       "    .dataframe thead th {\n",
       "        text-align: right;\n",
       "    }\n",
       "</style>\n",
       "<table border=\"1\" class=\"dataframe\">\n",
       "  <thead>\n",
       "    <tr style=\"text-align: right;\">\n",
       "      <th></th>\n",
       "      <th>Unnamed: 0</th>\n",
       "      <th>Name</th>\n",
       "      <th>URLs</th>\n",
       "    </tr>\n",
       "  </thead>\n",
       "  <tbody>\n",
       "    <tr>\n",
       "      <th>0</th>\n",
       "      <td>0</td>\n",
       "      <td>AAA Blooming Bath Oil (Formulation #BDY.0006)</td>\n",
       "      <td>['https://www.ulprospector.com/documents/16543...</td>\n",
       "    </tr>\n",
       "    <tr>\n",
       "      <th>1</th>\n",
       "      <td>1</td>\n",
       "      <td>Baby Massage Oil (Formulation #CS17-107-03C)</td>\n",
       "      <td>['https://www.ulprospector.com/documents/16088...</td>\n",
       "    </tr>\n",
       "    <tr>\n",
       "      <th>2</th>\n",
       "      <td>2</td>\n",
       "      <td>Biotic Body Butter (Formulation #US-CIADC-014-...</td>\n",
       "      <td>['https://www.ulprospector.com/documents/16291...</td>\n",
       "    </tr>\n",
       "    <tr>\n",
       "      <th>3</th>\n",
       "      <td>3</td>\n",
       "      <td>Ever Lasting Massage Oil</td>\n",
       "      <td>['https://www.ulprospector.com/documents/11652...</td>\n",
       "    </tr>\n",
       "    <tr>\n",
       "      <th>4</th>\n",
       "      <td>4</td>\n",
       "      <td>Hotstuff Warm - Up Massage Stick</td>\n",
       "      <td>['https://www.ulprospector.com/documents/16431...</td>\n",
       "    </tr>\n",
       "  </tbody>\n",
       "</table>\n",
       "</div>"
      ]
     },
     "execution_count": 3,
     "metadata": {},
     "output_type": "execute_result"
    }
   ],
   "execution_count": 3
  },
  {
   "metadata": {
    "ExecuteTime": {
     "end_time": "2024-11-22T16:56:28.082075Z",
     "start_time": "2024-11-22T16:56:28.075648Z"
    }
   },
   "cell_type": "code",
   "source": [
    "import ast\n",
    "\n",
    "list_pdf = []\n",
    "for index, row in df.iterrows():\n",
    "    list_temp = []\n",
    "    # convert string to list: \"[1,2,3]\" -> [1,2,3]\n",
    "    list_temp = ast.literal_eval(row['URLs'])\n",
    "    for i in list_temp:\n",
    "        list_pdf.append(i)"
   ],
   "id": "834499a98efb201f",
   "outputs": [],
   "execution_count": 4
  },
  {
   "metadata": {
    "ExecuteTime": {
     "end_time": "2024-11-22T16:56:28.518297Z",
     "start_time": "2024-11-22T16:56:28.104998Z"
    }
   },
   "cell_type": "code",
   "source": [
    "## download from list pdf (ex: https://www.ulprospector.com/documents/1422724.pdf?bs=2669&b=647201&st=20&r=na&ind=personalcare)\n",
    "from selenium import webdriver\n",
    "from selenium.webdriver.common.by import By\n",
    "from selenium.webdriver.common.keys import Keys\n",
    "import time\n",
    "import requests"
   ],
   "id": "11e55d4faa6e98b4",
   "outputs": [],
   "execution_count": 5
  },
  {
   "metadata": {
    "ExecuteTime": {
     "end_time": "2024-11-22T16:56:28.560319Z",
     "start_time": "2024-11-22T16:56:28.541631Z"
    }
   },
   "cell_type": "code",
   "source": [
    "from selenium.webdriver.chrome.service import Service\n",
    "from selenium.webdriver.chrome.options import Options\n",
    "from webdriver_manager.chrome import ChromeDriverManager\n"
   ],
   "id": "711fca20fa005870",
   "outputs": [],
   "execution_count": 6
  },
  {
   "metadata": {
    "ExecuteTime": {
     "end_time": "2024-11-22T16:56:30.765754Z",
     "start_time": "2024-11-22T16:56:28.567568Z"
    }
   },
   "cell_type": "code",
   "source": [
    "from selenium import webdriver\n",
    "from selenium.webdriver.chrome.service import Service\n",
    "from selenium.webdriver.chrome.options import Options\n",
    "from webdriver_manager.chrome import ChromeDriverManager\n",
    "\n",
    "# Configure Chrome options\n",
    "chrome_options = Options()\n",
    "chrome_options.add_experimental_option(\"prefs\", {\n",
    "    \"download.default_directory\": download_directory,\n",
    "    \"plugins.always_open_pdf_externally\": True,\n",
    "    \"download.prompt_for_download\": False,\n",
    "    \"download.directory_upgrade\": True\n",
    "})\n",
    "\n",
    "# Initialize the Chrome driver with the configured options\n",
    "driver = webdriver.Chrome(service=Service(ChromeDriverManager().install()), options=chrome_options)"
   ],
   "id": "fd1ef96e7559bcb2",
   "outputs": [],
   "execution_count": 7
  },
  {
   "metadata": {
    "ExecuteTime": {
     "end_time": "2024-11-22T16:56:34.569340Z",
     "start_time": "2024-11-22T16:56:30.775077Z"
    }
   },
   "cell_type": "code",
   "source": [
    "\n",
    "\n",
    "driver.get(\"https://www.ulprospector.com/en/login\")  # Thay bằng URL đăng nhập thực tế"
   ],
   "id": "a13e2baa15c1b334",
   "outputs": [],
   "execution_count": 8
  },
  {
   "metadata": {
    "ExecuteTime": {
     "end_time": "2024-11-22T16:57:06.423777Z",
     "start_time": "2024-11-22T16:56:34.579273Z"
    }
   },
   "cell_type": "code",
   "source": [
    "# Tự đăng nhập vào trang web bằng tay\n",
    "print(\"Vui lòng đăng nhập thủ công, sau đó nhấn Enter để tiếp tục...\")\n",
    "input(\"Nhấn Enter khi đã đăng nhập xong.\")"
   ],
   "id": "9ccf79670689bbe8",
   "outputs": [
    {
     "name": "stdout",
     "output_type": "stream",
     "text": [
      "Vui lòng đăng nhập thủ công, sau đó nhấn Enter để tiếp tục...\n"
     ]
    },
    {
     "data": {
      "text/plain": [
       "'Enter'"
      ]
     },
     "execution_count": 9,
     "metadata": {},
     "output_type": "execute_result"
    }
   ],
   "execution_count": 9
  },
  {
   "metadata": {
    "ExecuteTime": {
     "end_time": "2024-11-22T16:59:02.673663Z",
     "start_time": "2024-11-22T16:57:06.534263Z"
    }
   },
   "cell_type": "code",
   "source": [
    "from tqdm.notebook import tqdm  # Use notebook version for Jupyter\n",
    "\n",
    "\n",
    "for url in tqdm(list_pdf, desc=\"Downloading PDFs\"):\n",
    "    driver.get(url)\n",
    "    time.sleep(5)"
   ],
   "id": "e1b61a157d46ee5a",
   "outputs": [
    {
     "data": {
      "text/plain": [
       "Downloading PDFs:   0%|          | 0/21 [00:00<?, ?it/s]"
      ],
      "application/vnd.jupyter.widget-view+json": {
       "version_major": 2,
       "version_minor": 0,
       "model_id": "448bb4033269497d83ffe8ab04c2a418"
      }
     },
     "metadata": {},
     "output_type": "display_data"
    }
   ],
   "execution_count": 10
  },
  {
   "metadata": {
    "ExecuteTime": {
     "end_time": "2024-11-22T16:59:04.834641Z",
     "start_time": "2024-11-22T16:59:02.685112Z"
    }
   },
   "cell_type": "code",
   "source": [
    "# Close the Chrome driver\n",
    "driver.quit()"
   ],
   "id": "f4629c2216205fdd",
   "outputs": [],
   "execution_count": 11
  }
 ],
 "metadata": {
  "kernelspec": {
   "display_name": "Python 3",
   "language": "python",
   "name": "python3"
  },
  "language_info": {
   "codemirror_mode": {
    "name": "ipython",
    "version": 2
   },
   "file_extension": ".py",
   "mimetype": "text/x-python",
   "name": "python",
   "nbconvert_exporter": "python",
   "pygments_lexer": "ipython2",
   "version": "2.7.6"
  }
 },
 "nbformat": 4,
 "nbformat_minor": 5
}
